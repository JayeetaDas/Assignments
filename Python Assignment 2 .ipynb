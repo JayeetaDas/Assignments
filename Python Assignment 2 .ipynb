{
 "cells": [
  {
   "cell_type": "code",
   "execution_count": 1,
   "metadata": {},
   "outputs": [
    {
     "name": "stdout",
     "output_type": "stream",
     "text": [
      "Enter Range:5\n",
      "* \n",
      "* * \n",
      "* * * \n",
      "* * * * \n",
      "* * * * * \n",
      "* * * * \n",
      "* * * \n",
      "* * \n",
      "* \n",
      "\n",
      "\n",
      " Get another star range:yes\n",
      "Enter Range:10\n",
      "* \n",
      "* * \n",
      "* * * \n",
      "* * * * \n",
      "* * * * * \n",
      "* * * * * * \n",
      "* * * * * * * \n",
      "* * * * * * * * \n",
      "* * * * * * * * * \n",
      "* * * * * * * * * * \n",
      "* * * * * * * * * \n",
      "* * * * * * * * \n",
      "* * * * * * * \n",
      "* * * * * * \n",
      "* * * * * \n",
      "* * * * \n",
      "* * * \n",
      "* * \n",
      "* \n",
      "\n",
      "\n",
      " Get another star range:no\n",
      "\n",
      " Exit\n"
     ]
    }
   ],
   "source": [
    "def Stargaze():\n",
    "    p = int(input('Enter Range:'))\n",
    "    for i in range(p):\n",
    "        i = i + 1\n",
    "        for j in range(i):\n",
    "            print('*', end=' ')\n",
    "        print('\\r')\n",
    "    for i in range(p, 0, -1):\n",
    "        i = i - 1\n",
    "        for j in range(i):\n",
    "            print('*', end=' ')\n",
    "        print('\\r')\n",
    "    if input(\"\\n Get another star range:\").lower() == \"yes\":\n",
    "        Stargaze()    \n",
    "    else: print('\\n Exit')\n",
    "Stargaze()"
   ]
  },
  {
   "cell_type": "code",
   "execution_count": 2,
   "metadata": {},
   "outputs": [
    {
     "name": "stdout",
     "output_type": "stream",
     "text": [
      "Enter a word:iNeuron\n",
      "Word is: iNeuron\n",
      "Inverted Word :norueNi\n",
      "Repeat:Jayeeta\n",
      "Done\n"
     ]
    }
   ],
   "source": [
    "def GetWord():\n",
    "    word = input(\"Enter a word:\")\n",
    "    print(\"Word is: \" + word)\n",
    "    print(\"Inverted Word :\" + word[::-1])\n",
    "    if input(\"Repeat:\").lower() == \"yes\":\n",
    "        GetWord()    \n",
    "    else: print('Done')\n",
    "GetWord()"
   ]
  }
 ],
 "metadata": {
  "kernelspec": {
   "display_name": "Python 3",
   "language": "python",
   "name": "python3"
  },
  "language_info": {
   "codemirror_mode": {
    "name": "ipython",
    "version": 3
   },
   "file_extension": ".py",
   "mimetype": "text/x-python",
   "name": "python",
   "nbconvert_exporter": "python",
   "pygments_lexer": "ipython3",
   "version": "3.7.3"
  }
 },
 "nbformat": 4,
 "nbformat_minor": 4
}
